{
 "cells": [
  {
   "cell_type": "markdown",
   "metadata": {},
   "source": [
    "#### Monitor data"
   ]
  },
  {
   "cell_type": "code",
   "execution_count": 1,
   "metadata": {},
   "outputs": [],
   "source": [
    "# !pip install faker\n",
    "import pandas as pd\n",
    "import numpy as np\n",
    "from faker import Faker\n",
    "import random\n",
    "from datetime import datetime, timedelta"
   ]
  },
  {
   "cell_type": "code",
   "execution_count": 107,
   "metadata": {},
   "outputs": [],
   "source": [
    "seed_value = 42\n",
    "random.seed(seed_value)\n",
    "faker = Faker()\n",
    "Faker.seed(seed_value)\n",
    "path = r\"C:\\Users\\Sherry\\Desktop\\summer 2024\\5310\\project\\csv\""
   ]
  },
  {
   "cell_type": "code",
   "execution_count": 12,
   "metadata": {},
   "outputs": [
    {
     "name": "stdout",
     "output_type": "stream",
     "text": [
      "   EmployeeID FirstName LastName          Position  StoreID    HireDate  \\\n",
      "0           1  Danielle  Johnson           Butcher        1  2022-05-04   \n",
      "1           2      John   Taylor  Janitorial Staff        3  2020-11-14   \n",
      "2           3     Erica  Mcclain          Security        3  2020-09-27   \n",
      "3           4  Brittany  Johnson          Security        4  2020-10-18   \n",
      "4           5   Jeffery   Wagner  Janitorial Staff        1  2020-03-23   \n",
      "\n",
      "      Salary  \n",
      "0   51348.51  \n",
      "1   81733.07  \n",
      "2   31974.56  \n",
      "3   54703.23  \n",
      "4  111955.53  \n"
     ]
    }
   ],
   "source": [
    "# Generate data for employees\n",
    "def generate_employees(num_employees=500, num_stores=5):\n",
    "    faker.seed_instance(seed_value)  # Resetting the seed for the faker instance each call\n",
    "    employees = [{\n",
    "        'EmployeeID': i,\n",
    "        'FirstName': faker.first_name(),\n",
    "        'LastName': faker.last_name(),\n",
    "        'Position': random.choice([\"Manager\", \"Cashier\", \"Clerk\", \"Butcher\", \"Janitorial Staff\", \"Security\"]),\n",
    "        'StoreID': random.randint(1, num_stores),  # Ensure store IDs are within the expected range\n",
    "        'HireDate': faker.date_this_decade(),\n",
    "        'Salary': round(random.uniform(30000.00, 120000.00), 2)\n",
    "    } for i in range(1, num_employees + 1)]\n",
    "    return pd.DataFrame(employees)\n",
    "\n",
    "# Generating employee data\n",
    "df_employees = generate_employees()\n",
    "print(df_employees.head())"
   ]
  },
  {
   "cell_type": "code",
   "execution_count": 13,
   "metadata": {},
   "outputs": [],
   "source": [
    "df_employees.to_csv(path + \"\\employees.csv\")"
   ]
  },
  {
   "cell_type": "code",
   "execution_count": 110,
   "metadata": {},
   "outputs": [
    {
     "name": "stdout",
     "output_type": "stream",
     "text": [
      "   EmployeeID   StartDate     EndDate    Reason    Status\n",
      "0         273  2024-02-13  2024-02-22  Vacation  Approved\n",
      "1         225  2024-01-10  2024-01-15  Vacation  Approved\n",
      "2         390  2024-04-16  2024-04-17  Vacation  Rejected\n",
      "3         366  2024-04-05  2024-04-15  Personal  Rejected\n",
      "4         383  2024-03-27  2024-04-04  Vacation  Rejected\n"
     ]
    }
   ],
   "source": [
    "# Function to generate staff timeoff data\n",
    "def generate_timeoffs(df_employees, num_timeoffs=200):\n",
    "    faker.seed_instance(seed_value)  # Resetting the seed for the faker instance each call\n",
    "    timeoffs = []\n",
    "    employee_ids = df_employees['EmployeeID'].tolist()\n",
    "    random.shuffle(employee_ids)  # Get a list of all employee IDs\n",
    "\n",
    "    for i in range(num_timeoffs):\n",
    "        start_date = faker.date_this_year()  # Generate a start date within this year\n",
    "        end_date = start_date + timedelta(days=random.randint(1, 14))  # Add 1-14 days to the start date\n",
    "\n",
    "        timeoff = {\n",
    "            'EmployeeID': employee_ids[i],\n",
    "            'StartDate': start_date,\n",
    "            'EndDate': end_date,\n",
    "            'Reason': random.choice([\"Vacation\", \"Sick\", \"Personal\"]),\n",
    "            'Status': random.choice([\"Approved\", \"Rejected\"])\n",
    "        }\n",
    "        timeoffs.append(timeoff)\n",
    "\n",
    "    return pd.DataFrame(timeoffs)\n",
    "\n",
    "# Generate data for staff timeoffs\n",
    "df_timeoffs = generate_timeoffs(df_employees=df_employees, num_timeoffs=200)\n",
    "print(df_timeoffs.head())"
   ]
  },
  {
   "cell_type": "code",
   "execution_count": 111,
   "metadata": {},
   "outputs": [],
   "source": [
    "df_timeoffs.to_csv(path + \"\\staff_Timeoff.csv\")"
   ]
  },
  {
   "cell_type": "code",
   "execution_count": 105,
   "metadata": {},
   "outputs": [
    {
     "name": "stdout",
     "output_type": "stream",
     "text": [
      "   ShiftID  EmployeeID StartTime   EndTime        Date\n",
      "0        1         397  03:34:23  11:34:23  2024-04-09\n",
      "1        2         250  08:06:21  16:06:21  2023-08-14\n",
      "2        3          83  19:40:56  21:40:56  2023-11-19\n",
      "3        4         276  05:36:52  10:36:52  2023-10-30\n",
      "4        5          23  12:45:07  18:45:07  2024-05-17\n"
     ]
    }
   ],
   "source": [
    "# Function to generate staff shifts\n",
    "def generate_staff_shifts(df_employees, num_shifts=1000):\n",
    "    faker.seed_instance(seed_value)  # Resetting the seed for the faker instance each call\n",
    "    staff_shifts = []\n",
    "    employee_ids = df_employees['EmployeeID'].tolist()  # Get a list of all employee IDs\n",
    "\n",
    "    for i in range(1, num_shifts + 1):\n",
    "            shift_date = faker.date_between(start_date='-1y', end_date='today')  \n",
    "            start_time = datetime.combine(shift_date, faker.time_object())  \n",
    "            end_time = start_time + timedelta(hours=random.randint(1, 8)) \n",
    "            \n",
    "            # Ensure end_time doesn't exceed the bounds of a day\n",
    "            if end_time.day != start_time.day:\n",
    "                end_time = start_time.replace(hour=23, minute=59, second=59)  # Set to last minute of the day if exceeding\n",
    "\n",
    "            staff_shift = {\n",
    "                'ShiftID': i,\n",
    "                'EmployeeID': random.choice(employee_ids),\n",
    "                'StartTime': start_time.strftime(\"%H:%M:%S\"),  # Format time object to string\n",
    "                'EndTime': end_time.strftime(\"%H:%M:%S\"),  # Format time object to string\n",
    "                'Date': shift_date.strftime(\"%Y-%m-%d\")\n",
    "            }\n",
    "            staff_shifts.append(staff_shift)\n",
    "\n",
    "    return pd.DataFrame(staff_shifts)\n",
    "\n",
    "# Generate data for staff shifts\n",
    "df_staff_shifts = generate_staff_shifts(df_employees=df_employees, num_shifts=1000)\n",
    "print(df_staff_shifts.head())"
   ]
  },
  {
   "cell_type": "code",
   "execution_count": 106,
   "metadata": {},
   "outputs": [],
   "source": [
    "df_staff_shifts.to_csv(path + \"\\staff_shift.csv\")"
   ]
  },
  {
   "cell_type": "code",
   "execution_count": 26,
   "metadata": {},
   "outputs": [
    {
     "name": "stdout",
     "output_type": "stream",
     "text": [
      "   StoreID                        StoreName                      Address  \\\n",
      "0        1  Rodriguez, Figueroa and Sanchez           181 Johnson Course   \n",
      "1        2                       Wagner Inc         863 Lawrence Valleys   \n",
      "2        3                        Wolfe LLC  35116 Michael Key Suite 078   \n",
      "3        4                    Miller-Carter   310 Kendra Common Apt. 164   \n",
      "4        5        Flowers, Martin and Kelly    192 Frank Light Suite 835   \n",
      "\n",
      "       City State ZipCode  ManagerID  \n",
      "0  New York    NY   11792        299  \n",
      "1  New York    NY   10054        105  \n",
      "2  New York    NY   11023         47  \n",
      "3  New York    NY   13715        141  \n",
      "4  New York    NY   10459        442  \n"
     ]
    }
   ],
   "source": [
    "# Function to generate stores:\n",
    "def generate_stores(df_employees, num_stores=5):\n",
    "    faker.seed_instance(seed_value)\n",
    "    stores = []\n",
    "\n",
    "    for i in range(1, num_stores + 1):\n",
    "        # Select a manager for each specific store\n",
    "        possible_managers = df_employees[(df_employees['Position'] == 'Manager') & (df_employees['StoreID'] == i)]\n",
    "        manager_id = random.choice(possible_managers['EmployeeID'].tolist()) if not possible_managers.empty else None\n",
    "\n",
    "        store = {\n",
    "            'StoreID': i,\n",
    "            'StoreName': faker.company(),\n",
    "            'Address': faker.street_address(),\n",
    "            'City': 'New York',\n",
    "            'State': 'NY',\n",
    "            'ZipCode': faker.zipcode_in_state('NY'),\n",
    "            'ManagerID': manager_id\n",
    "        }\n",
    "        stores.append(store)\n",
    "\n",
    "    return pd.DataFrame(stores)\n",
    "\n",
    "df_stores = generate_stores(df_employees=df_employees, num_stores=5)\n",
    "print(df_stores.head())"
   ]
  },
  {
   "cell_type": "code",
   "execution_count": 27,
   "metadata": {},
   "outputs": [],
   "source": [
    "df_stores.to_csv(path + \"\\Stores.csv\")"
   ]
  },
  {
   "cell_type": "code",
   "execution_count": 24,
   "metadata": {},
   "outputs": [
    {
     "name": "stdout",
     "output_type": "stream",
     "text": [
      "   ProductID  StoreID  Quantity  UnitCost\n",
      "0          1        4      1486    699.75\n",
      "1          2        4      3085    690.76\n",
      "2          3        1      2226    382.53\n",
      "3          4        1      3165    364.79\n",
      "4          5        3      2033    550.82\n"
     ]
    }
   ],
   "source": [
    "# Function to generate inventory data\n",
    "def generate_inventory(df_stores, num_products=1000):\n",
    "    faker.seed_instance(seed_value)  # Resetting the seed for the faker instance each call\n",
    "    store_ids = df_stores['StoreID'].tolist()  # Get a list of all store IDs\n",
    "\n",
    "    inventory = [{\n",
    "        'ProductID': i,\n",
    "        'StoreID': random.choice(store_ids),  # Ensure only valid Store IDs are chosen\n",
    "        'Quantity': random.randint(500, 5000),  # Random quantity between 0 and 500\n",
    "        'UnitCost': round(random.uniform(5.00, 1000.00), 2)  # Random unit cost between $5 and $1000\n",
    "    } for i in range(1, num_products + 1)]\n",
    "    \n",
    "    return pd.DataFrame(inventory)\n",
    "\n",
    "# Generate data for inventory\n",
    "df_inventory = generate_inventory(df_stores=df_stores, num_products=1000)\n",
    "print(df_inventory.head())"
   ]
  },
  {
   "cell_type": "code",
   "execution_count": 25,
   "metadata": {},
   "outputs": [],
   "source": [
    "df_inventory.to_csv(path + \"\\Inventory.csv\")"
   ]
  },
  {
   "cell_type": "code",
   "execution_count": 28,
   "metadata": {},
   "outputs": [
    {
     "name": "stdout",
     "output_type": "stream",
     "text": [
      "   ChangeID  ProductID  StoreID ChangeType  Quantity  ChangeDate\n",
      "0         1          1        4     Remove        99  2024-04-08\n",
      "1         2          2        4        Add        32  2023-09-16\n",
      "2         3          3        1     Remove        44  2023-08-13\n",
      "3         4          4        1     Remove        65  2024-05-17\n",
      "4         5          5        3        Add        11  2023-11-18\n"
     ]
    }
   ],
   "source": [
    "# Function to generate inventory change data\n",
    "def generate_inventory_changes(df_inventory):\n",
    "    faker.seed_instance(seed_value)  # Resetting the seed for the faker instance each call\n",
    "\n",
    "    inventory_changes = [{\n",
    "        'ChangeID': i,\n",
    "        'ProductID': row.ProductID,  # Use ProductID from the inventory using attribute access\n",
    "        'StoreID': row.StoreID,      # Use StoreID associated with ProductID from the inventory using attribute access\n",
    "        'ChangeType': random.choice(['Add', 'Remove']),  # Randomly choose type of inventory change\n",
    "        'Quantity': random.randint(1, 100),  # Random quantity change\n",
    "        'ChangeDate': faker.date_between(start_date='-1y', end_date='today')  # Random date for the inventory change\n",
    "    } for i, row in enumerate(df_inventory.itertuples(), 1)]  # Generate as many entries as there are in the inventory\n",
    "    \n",
    "    return pd.DataFrame(inventory_changes)\n",
    "\n",
    "# Generate data for inventory changes\n",
    "df_inventory_changes = generate_inventory_changes(df_inventory=df_inventory)\n",
    "print(df_inventory_changes.head())"
   ]
  },
  {
   "cell_type": "code",
   "execution_count": 30,
   "metadata": {},
   "outputs": [],
   "source": [
    "df_inventory_changes.to_csv(path + \"\\InventoryChanges.csv\")"
   ]
  },
  {
   "cell_type": "code",
   "execution_count": 57,
   "metadata": {},
   "outputs": [
    {
     "name": "stdout",
     "output_type": "stream",
     "text": [
      "   VendorID                       VendorName                         Address  \\\n",
      "0         1  Rodriguez, Figueroa and Sanchez              181 Johnson Course   \n",
      "1         2                      Baldwin Ltd  79402 Peterson Drives Apt. 511   \n",
      "2         3                        Blair PLC                1849 Ray Squares   \n",
      "3         4                      James Group   55341 Amanda Gardens Apt. 764   \n",
      "4         5                    Underwood LLC      1395 Diana Locks Suite 242   \n",
      "\n",
      "              City State ZipCode Country  \n",
      "0     East William    AK   74064      US  \n",
      "1        Davisstad    PA   35172      US  \n",
      "2  North Donnaport    CO   31013      US  \n",
      "3        Lake Mark    WI   07832      US  \n",
      "4        Lake Anna    KS   98413      US  \n"
     ]
    }
   ],
   "source": [
    "# Function to generate supplier data\n",
    "def generate_suppliers(num_suppliers=500):\n",
    "    faker.seed_instance(seed_value)  # Resetting the seed for the faker instance each call\n",
    "    suppliers = [{\n",
    "        'VendorID': i,\n",
    "        'VendorName': faker.company(),\n",
    "        'Address': faker.street_address(),\n",
    "        'City': faker.city(),\n",
    "        'State': faker.state_abbr(),\n",
    "        'ZipCode': faker.zipcode(),\n",
    "        'Country': 'US'\n",
    "    } for i in range(1, num_suppliers + 1)]\n",
    "    \n",
    "    return pd.DataFrame(suppliers)\n",
    "\n",
    "# Generate data for suppliers\n",
    "df_suppliers = generate_suppliers(num_suppliers=500)\n",
    "print(df_suppliers.head())"
   ]
  },
  {
   "cell_type": "code",
   "execution_count": 58,
   "metadata": {},
   "outputs": [],
   "source": [
    "df_suppliers.to_csv(path + \"\\Suppliers.csv\")"
   ]
  },
  {
   "cell_type": "code",
   "execution_count": 112,
   "metadata": {},
   "outputs": [
    {
     "name": "stdout",
     "output_type": "stream",
     "text": [
      "   VendorID                          Liaison                 Phone\n",
      "0         1  Rodriguez, Figueroa and Sanchez  +1-210-343-3218x1960\n",
      "1         2                      Baldwin Ltd          538.990.8386\n",
      "2         3                        Blair PLC      001-740-326-5423\n",
      "3         4                      James Group          361-855-9407\n",
      "4         5                    Underwood LLC          584-695-9310\n"
     ]
    }
   ],
   "source": [
    "# Assuming df_suppliers is previously created and contains the supplier data\n",
    "def generate_contacts(df_suppliers):\n",
    "    faker.seed_instance(seed_value)  # Resetting the seed for the faker instance each call\n",
    "    contacts = [{\n",
    "        'VendorID': supplier['VendorID'],  # Use VendorID from the suppliers DataFrame\n",
    "        'Liaison': supplier['VendorName'],           # Random liaison name\n",
    "        'Phone': faker.phone_number()      # Random phone number\n",
    "    } for supplier in df_suppliers.to_dict('records')]  # Generate one contact entry per supplier\n",
    "    \n",
    "    return pd.DataFrame(contacts)\n",
    "\n",
    "# Generate data for contacts\n",
    "df_contacts = generate_contacts(df_suppliers=df_suppliers)\n",
    "print(df_contacts.head())"
   ]
  },
  {
   "cell_type": "code",
   "execution_count": 34,
   "metadata": {},
   "outputs": [],
   "source": [
    "df_contacts.to_csv(path + \"\\contact.csv\")"
   ]
  },
  {
   "cell_type": "code",
   "execution_count": 37,
   "metadata": {},
   "outputs": [
    {
     "name": "stdout",
     "output_type": "stream",
     "text": [
      "   PurchaseOrderID  VendorID   OrderDate ShippedDate     Status  TotalAmount\n",
      "0                1        75  2023-12-13  2024-01-25  Cancelled      1164.63\n",
      "1                2        84  2022-08-23  2024-03-20  Delivered      1331.32\n",
      "2                3        46  2023-03-05  2023-09-11    Shipped      9624.19\n",
      "3                4        93  2023-01-24  2023-05-12  Delivered      5899.63\n",
      "4                5        21  2024-02-27  2024-03-17  Cancelled     10262.45\n"
     ]
    }
   ],
   "source": [
    "# Assuming df_suppliers is the DataFrame that contains the supplier data\n",
    "def generate_purchase_orders(df_suppliers, num_orders=500):\n",
    "    faker.seed_instance(seed_value)  # Resetting the seed for the faker instance each call\n",
    "    vendor_ids = df_suppliers['VendorID'].tolist()  # Extract vendor IDs from the suppliers DataFrame\n",
    "\n",
    "    purchase_orders = [{\n",
    "        'PurchaseOrderID': i,\n",
    "        'VendorID': random.choice(vendor_ids),  # Select a VendorID from the list of suppliers\n",
    "        'OrderDate': (order_date := faker.date_between(start_date='-2y', end_date='today')),  # Assign and use OrderDate\n",
    "        'ShippedDate': faker.date_between(start_date=order_date, end_date= 'today'),  # Ensure ShippedDate is after OrderDate\n",
    "        'Status': random.choice(['Pending', 'Shipped', 'Cancelled', 'Delivered']),\n",
    "        'TotalAmount': round(random.uniform(500.00, 20000.00), 2)  # Random total amount for the order\n",
    "    } for i in range(1, num_orders + 1)]\n",
    "    \n",
    "    return pd.DataFrame(purchase_orders)\n",
    "\n",
    "# Generate data for purchase orders\n",
    "df_purchase_orders = generate_purchase_orders(df_suppliers=df_suppliers, num_orders=500)\n",
    "print(df_purchase_orders.head())"
   ]
  },
  {
   "cell_type": "code",
   "execution_count": 38,
   "metadata": {},
   "outputs": [],
   "source": [
    "df_purchase_orders.to_csv(path + \"\\PurchaseOrders.csv\")"
   ]
  },
  {
   "cell_type": "code",
   "execution_count": 39,
   "metadata": {},
   "outputs": [
    {
     "name": "stdout",
     "output_type": "stream",
     "text": [
      "   Delivercompany_ID                  Company_Name  \\\n",
      "0                  1                   Meyer-Miles   \n",
      "1                  2    Gray, Sullivan and Vazquez   \n",
      "2                  3                   Stark-Lopez   \n",
      "3                  4  Cooley, Jensen and Mcpherson   \n",
      "4                  5                    Lawson Inc   \n",
      "\n",
      "                          Address          City State ZipCode Country  \\\n",
      "0             63403 Ashley Courts   Port Willie    ME   91400      US   \n",
      "1      1549 Daniel Cliff Apt. 451    Austinfurt    CT   63059      US   \n",
      "2  300 Mckinney Streets Suite 577  East Timothy    WY   97051      US   \n",
      "3                2030 Vang Knolls  South Daniel    MA   15225      US   \n",
      "4   97122 Christine Hill Apt. 410     Hillhaven    SC   89398      US   \n",
      "\n",
      "   Pricepercar  \n",
      "0       775.77  \n",
      "1       506.35  \n",
      "2       520.64  \n",
      "3       240.31  \n",
      "4       626.44  \n"
     ]
    }
   ],
   "source": [
    "# Function to generate delivery data\n",
    "def generate_deliveries(num_deliveries=100):\n",
    "    faker.seed_instance(44)  # Resetting the seed for the faker instance each call\n",
    "    deliveries = [{\n",
    "        'Delivercompany_ID': i,\n",
    "        'Company_Name': faker.company(),                # Random company name\n",
    "        'Address': faker.street_address(),              # Random street address\n",
    "        'City': faker.city(),                           # Random city\n",
    "        'State': faker.state_abbr(),                    # Random state abbreviation\n",
    "        'ZipCode': faker.zipcode(),                     # Random zipcode\n",
    "        'Country': 'US',                     \n",
    "        'Pricepercar': round(random.uniform(100.00, 1000.00), 2)  # Random price per car\n",
    "    } for i in range(1, num_deliveries + 1)]\n",
    "    \n",
    "    return pd.DataFrame(deliveries)\n",
    "\n",
    "# Generate data for deliveries\n",
    "df_deliveries = generate_deliveries(num_deliveries=100)\n",
    "print(df_deliveries.head())"
   ]
  },
  {
   "cell_type": "code",
   "execution_count": 40,
   "metadata": {},
   "outputs": [],
   "source": [
    "df_deliveries.to_csv(path + \"\\Deliveries.csv\")"
   ]
  },
  {
   "cell_type": "code",
   "execution_count": 113,
   "metadata": {},
   "outputs": [
    {
     "name": "stdout",
     "output_type": "stream",
     "text": [
      "   CustomerID FirstName   LastName                     Email  \\\n",
      "0           1   Tiffany      Brown        xwyatt@example.com   \n",
      "1           2     Emily      Keith  douglasmeyer@example.net   \n",
      "2           3  Kimberly  Hernandez    lorichavez@example.org   \n",
      "3           4     Haley   Mcknight     deborah54@example.org   \n",
      "4           5      Adam     Booker        padams@example.org   \n",
      "\n",
      "                  Phone                                            Address  \n",
      "0            8229625700         27347 Perry Walks\\nNew Paulaland, OK 52276  \n",
      "1  001-224-515-2696x903    2212 David Rapid Apt. 438\\nJonesburgh, WA 93831  \n",
      "2          286.783.1209  28219 Porter Skyway Apt. 247\\nEast Amyberg, FL...  \n",
      "3         (714)701-3385  26417 Lisa Causeway Suite 244\\nLauraside, NJ 8...  \n",
      "4    201.777.3149x04482          57135 Brian Pines\\nPort William, ID 35239  \n"
     ]
    }
   ],
   "source": [
    "# Function to generate customer data\n",
    "def generate_customers(num_customers=500):\n",
    "    faker.seed_instance(52)  # Resetting the seed for the faker instance each call\n",
    "    customers = [{\n",
    "        'CustomerID': i,\n",
    "        'FirstName': faker.first_name(),\n",
    "        'LastName': faker.last_name(),\n",
    "        'Email': faker.email(),\n",
    "        'Phone' : faker.phone_number(),\n",
    "        'Address': faker.address()\n",
    "    } for i in range(1, num_customers + 1)]\n",
    "    \n",
    "    return pd.DataFrame(customers)\n",
    "\n",
    "# Generate data for customers\n",
    "df_customers = generate_customers(num_customers=500)\n",
    "print(df_customers.head())"
   ]
  },
  {
   "cell_type": "code",
   "execution_count": 114,
   "metadata": {},
   "outputs": [],
   "source": [
    "df_customers.to_csv(path + \"\\Customer.csv\")"
   ]
  },
  {
   "cell_type": "code",
   "execution_count": 115,
   "metadata": {},
   "outputs": [
    {
     "name": "stdout",
     "output_type": "stream",
     "text": [
      "   Deliverorder_ID   Products  Quantity        Date  StoreID  CustomerID  \\\n",
      "0                1      Fruit      4760  2024-01-10        5         360   \n",
      "1                2       Wine      3609  2024-02-22        2         149   \n",
      "2                3  Chocolate       572  2024-03-02        1          81   \n",
      "3                4      Sauce      3600  2024-05-03        5         208   \n",
      "4                5     Snakes      3435  2024-07-04        1         174   \n",
      "\n",
      "   DeliveryFee  \n",
      "0      4448.15  \n",
      "1      1116.39  \n",
      "2      4097.79  \n",
      "3      4064.38  \n",
      "4      4366.09  \n"
     ]
    }
   ],
   "source": [
    "# Function to generate delivery order data\n",
    "def generate_deliver_orders(df_stores, df_customers, num_orders=500):\n",
    "    random.seed(44)\n",
    "    faker.seed_instance(44)  # Resetting the seed for the faker instance each call\n",
    "    store_ids = df_stores['StoreID'].tolist()  # Get a list of all store IDs\n",
    "    customer_ids = df_customers['CustomerID'].tolist()  # Get a list of all customer IDs\n",
    "\n",
    "    deliver_orders = [{\n",
    "        'Deliverorder_ID': i,\n",
    "        'Products': random.choice(['Dairy', 'Chocolate', 'Wine', 'Pasta', 'Sauce', 'Snakes', 'Fruit', 'Vegetable', 'Meat', 'Seafood']),  \n",
    "        'Quantity': random.randint(500, 5000),  # Random quantity of products\n",
    "        'Date': faker.date_between(start_date='-1y', end_date='today'),  # Random date for the order\n",
    "        'StoreID': random.choice(store_ids),  # Randomly select a StoreID from the list\n",
    "        'CustomerID': random.choice(customer_ids),  # Randomly select a CustomerID from the list\n",
    "        'DeliveryFee': round(random.uniform(1000.00, 5000.00), 2)  # Random delivery fee\n",
    "    } for i in range(1, num_orders + 1)]\n",
    "    \n",
    "    return pd.DataFrame(deliver_orders)\n",
    "\n",
    "# Assuming df_stores and df_customers are previously created and contain the relevant data\n",
    "df_deliver_orders = generate_deliver_orders(df_stores=df_stores, df_customers=df_customers, num_orders=500)\n",
    "print(df_deliver_orders.head())"
   ]
  },
  {
   "cell_type": "code",
   "execution_count": 116,
   "metadata": {},
   "outputs": [],
   "source": [
    "df_deliver_orders.to_csv(path + \"\\Deliver_Order.csv\")"
   ]
  },
  {
   "cell_type": "code",
   "execution_count": 78,
   "metadata": {},
   "outputs": [
    {
     "name": "stdout",
     "output_type": "stream",
     "text": [
      "   CategoryID       Name                                        Description\n",
      "0           1      Dairy  Score each cause. Quality throughout beautiful...\n",
      "1           2  Chocolate  Prove reduce raise author play. Rock clear her...\n",
      "2           3       Wine  Seem shoulder future fall citizen about reveal...\n",
      "3           4      Pasta  Best issue interest level. Pull worker better....\n",
      "4           5      Sauce  Price north first end prove fire. How public f...\n"
     ]
    }
   ],
   "source": [
    "# Function to generate category data\n",
    "def generate_categories(num_categories=10):\n",
    "    faker.seed_instance(seed_value)\n",
    "    cate = ['Dairy', 'Chocolate', 'Wine', 'Pasta', 'Sauce', 'Snakes', 'Fruit', 'Vegetable', 'Meat', 'Seafood']\n",
    "    \n",
    "    categories = [{\n",
    "        'CategoryID': i,\n",
    "        'Name': cate[i-1],  # Generate a simple, single-word category name and capitalize it\n",
    "        'Description': faker.text(max_nb_chars=255)  # Generate a random text up to 255 characters as a description\n",
    "    } for i in range(1, num_categories + 1)]\n",
    "    \n",
    "    return pd.DataFrame(categories)\n",
    "\n",
    "# Generate data for categories\n",
    "df_categories = generate_categories(num_categories=10)\n",
    "print(df_categories.head())"
   ]
  },
  {
   "cell_type": "code",
   "execution_count": 80,
   "metadata": {},
   "outputs": [],
   "source": [
    "df_categories.to_csv(path + \"\\Categories.csv\")"
   ]
  },
  {
   "cell_type": "code",
   "execution_count": 81,
   "metadata": {},
   "outputs": [
    {
     "name": "stdout",
     "output_type": "stream",
     "text": [
      "   ProductID      Name                                        Description  \\\n",
      "0          1      View  Always only thought play charge Mrs. Air situa...   \n",
      "1          2  Recently  Strategy result country hour scientist front o...   \n",
      "2          3     Might  Family join woman truth summer avoid. Out deal...   \n",
      "3          4      Lead  Somebody very it by radio small analysis. Stud...   \n",
      "4          5     Party  Poor how wife foot team the plant. Drive inste...   \n",
      "\n",
      "    Price  CategoryID  \n",
      "0  116.32           3  \n",
      "1  359.21           5  \n",
      "2  224.08           6  \n",
      "3    8.34           8  \n",
      "4  136.16           7  \n"
     ]
    }
   ],
   "source": [
    "# Function to generate product data\n",
    "def generate_products(df_categories, num_products=500):\n",
    "    faker.seed_instance(46)  # Resetting the seed for the faker instance each call\n",
    "    category_ids = df_categories['CategoryID'].tolist()  # Extract Category IDs from the categories DataFrame\n",
    "\n",
    "    products = [{\n",
    "        'ProductID': i,\n",
    "        'Name': faker.word().capitalize(),  # Random product name\n",
    "        'Description': faker.text(max_nb_chars=255),  # Random product description\n",
    "        'Price': round(random.uniform(5.00, 500.00), 2),  # Random price between 5.00 and 500.00\n",
    "        'CategoryID': random.choice(category_ids)  # Randomly select a CategoryID from the list\n",
    "    } for i in range(1, num_products + 1)]\n",
    "    \n",
    "    return pd.DataFrame(products)\n",
    "\n",
    "# Assuming df_categories is previously created and contains the category data\n",
    "df_products = generate_products(df_categories=df_categories, num_products=500)\n",
    "print(df_products.head())"
   ]
  },
  {
   "cell_type": "code",
   "execution_count": 82,
   "metadata": {},
   "outputs": [],
   "source": [
    "df_products.to_csv(path + \"\\Products.csv\")"
   ]
  },
  {
   "cell_type": "code",
   "execution_count": 83,
   "metadata": {},
   "outputs": [
    {
     "name": "stdout",
     "output_type": "stream",
     "text": [
      "   OrderID  CustomerID   OrderDate\n",
      "0        1          23  2024-04-08\n",
      "1        2         312  2023-09-16\n",
      "2        3         307  2023-08-13\n",
      "3        4         226  2024-05-17\n",
      "4        5         287  2023-11-18\n"
     ]
    }
   ],
   "source": [
    "# Function to generate order data\n",
    "def generate_orders(df_customers, num_orders=500):\n",
    "    faker.seed_instance(seed_value)  # Resetting the seed for the faker instance each call\n",
    "    customer_ids = df_customers['CustomerID'].tolist()  # Extract Customer IDs from the customers DataFrame\n",
    "\n",
    "    orders = [{\n",
    "        'OrderID': i,\n",
    "        'CustomerID': random.choice(customer_ids),  # Randomly select a CustomerID from the list\n",
    "        'OrderDate': faker.date_between(start_date='-1y', end_date='today')  # Random date within the last year\n",
    "    } for i in range(1, num_orders + 1)]\n",
    "    \n",
    "    return pd.DataFrame(orders)\n",
    "\n",
    "# Assuming df_customers is previously created and contains the customer data\n",
    "df_orders = generate_orders(df_customers=df_customers, num_orders=500)\n",
    "print(df_orders.head())"
   ]
  },
  {
   "cell_type": "code",
   "execution_count": 84,
   "metadata": {},
   "outputs": [],
   "source": [
    "df_orders.to_csv(path + \"\\Orders.csv\")"
   ]
  },
  {
   "cell_type": "code",
   "execution_count": 85,
   "metadata": {},
   "outputs": [
    {
     "name": "stdout",
     "output_type": "stream",
     "text": [
      "   OrderDetailID  OrderID  ProductID  Quantity  UnitPrice\n",
      "0              1       20        479         3     437.32\n",
      "1              2      349         66        10     108.30\n",
      "2              3      434        395         4     126.45\n",
      "3              4      377        397        10     211.61\n",
      "4              5        3        276         5     305.30\n"
     ]
    }
   ],
   "source": [
    "# Function to generate order details data\n",
    "def generate_order_details(df_orders, df_products, num_order_details=1000):\n",
    "    faker.seed_instance(seed_value)  # Resetting the seed for the faker instance each call\n",
    "    order_ids = df_orders['OrderID'].tolist()  # Extract Order IDs from the orders DataFrame\n",
    "    product_ids = df_products['ProductID'].tolist()  # Extract Product IDs from the products DataFrame\n",
    "\n",
    "    order_details = [{\n",
    "        'OrderDetailID': i,\n",
    "        'OrderID': random.choice(order_ids),  # Randomly select an OrderID from the list\n",
    "        'ProductID': random.choice(product_ids),  # Randomly select a ProductID from the list\n",
    "        'Quantity': random.randint(1, 10),  # Random quantity between 1 and 10\n",
    "        'UnitPrice': round(random.uniform(5.00, 500.00), 2)  # Random unit price between 5.00 and 500.00\n",
    "    } for i in range(1, num_order_details + 1)]\n",
    "    \n",
    "    return pd.DataFrame(order_details)\n",
    "\n",
    "# Assuming df_orders and df_products are previously created and contain the relevant data\n",
    "df_order_details = generate_order_details(df_orders=df_orders, df_products=df_products, num_order_details=1000)\n",
    "print(df_order_details.head())"
   ]
  },
  {
   "cell_type": "code",
   "execution_count": 86,
   "metadata": {},
   "outputs": [],
   "source": [
    "df_order_details.to_csv(path + \"\\OrderDetails.csv\")"
   ]
  },
  {
   "cell_type": "code",
   "execution_count": 120,
   "metadata": {},
   "outputs": [
    {
     "name": "stdout",
     "output_type": "stream",
     "text": [
      "   TransactionID  StoreID  OrderID  ProductID TransactionDate  TotalAmount\n",
      "0              1        2      156        159      2023-12-14    451412.69\n",
      "1              2        3      219        318      2022-10-30     23269.71\n",
      "2              3        5      366         25      2022-08-24    454258.60\n",
      "3              4        4      351        168      2024-03-02    435317.42\n",
      "4              5        2      261         20      2023-03-06    457625.65\n"
     ]
    }
   ],
   "source": [
    "# Function to generate sales transactions data\n",
    "def generate_sales_transactions(df_orders, df_products, num_transactions=1000):\n",
    "    faker.seed_instance(seed_value)  # Resetting the seed for the faker instance each call\n",
    "    store_ids = df_stores['StoreID'].tolist()\n",
    "    order_ids = df_orders['OrderID'].tolist()  # Extract Order IDs from the orders DataFrame\n",
    "    product_ids = df_products['ProductID'].tolist()  # Extract Product IDs from the products DataFrame\n",
    "\n",
    "    transactions = [{\n",
    "        'TransactionID': i,\n",
    "        'StoreID': random.choice(store_ids),\n",
    "        'OrderID': random.choice(order_ids),  # Randomly select an OrderID from the list\n",
    "        'ProductID': random.choice(product_ids),  # Randomly select a ProductID from the list\n",
    "        'TransactionDate': faker.date_between(start_date='-2y', end_date='today'),  # Random date within the last 2 years\n",
    "        'TotalAmount': round(random.uniform(2000.00, 500000.00), 2)  # Random price between 20.00 and 500.00\n",
    "    } for i in range(1, num_transactions + 1)]\n",
    "    \n",
    "    return pd.DataFrame(transactions)\n",
    "\n",
    "# Assuming df_orders and df_products are previously created and contain the relevant data\n",
    "df_transactions = generate_sales_transactions(df_orders=df_orders, df_products=df_products, num_transactions=1000)\n",
    "print(df_transactions.head())"
   ]
  },
  {
   "cell_type": "code",
   "execution_count": 122,
   "metadata": {},
   "outputs": [],
   "source": [
    "df_transactions.to_csv(path + \"\\SalesTransactions.csv\")"
   ]
  },
  {
   "cell_type": "code",
   "execution_count": 89,
   "metadata": {},
   "outputs": [
    {
     "name": "stdout",
     "output_type": "stream",
     "text": [
      "   SubscriptionID  CustomerID SubscriptionType   StartDate     EndDate  \\\n",
      "0               1         183              VIP  2023-12-13  2024-03-08   \n",
      "1               2          33              VIP  2022-08-23  2023-10-24   \n",
      "2               3         275              VIP  2023-02-10  2024-01-22   \n",
      "3               4         418            Basic  2022-11-20  2023-04-28   \n",
      "4               5          26              VIP  2024-01-11  2025-03-09   \n",
      "\n",
      "   SubscriptionFee  \n",
      "0           137.45  \n",
      "1           175.45  \n",
      "2           116.66  \n",
      "3           165.82  \n",
      "4            61.47  \n"
     ]
    }
   ],
   "source": [
    "# Function to generate membership subscriptions data\n",
    "def generate_membership_subscriptions(df_customers, num_subscriptions=500):\n",
    "    faker.seed_instance(seed_value)  # Resetting the seed for the faker instance each call\n",
    "    customer_ids = df_customers['CustomerID'].tolist()  # Extract Customer IDs from the customers DataFrame\n",
    "\n",
    "    subscriptions = [{\n",
    "        'SubscriptionID': i,\n",
    "        'CustomerID': random.choice(customer_ids),  # Randomly select a CustomerID from the list\n",
    "        'SubscriptionType': random.choice(['Basic', 'Premium', 'VIP']),  # Randomly select a subscription type\n",
    "        'StartDate': (startdate := faker.date_between(start_date='-2y', end_date='today')),  # Random start date within the last 2 years\n",
    "        'EndDate': faker.date_between(start_date=startdate, end_date='+1y'),  # End date should be after start date, within the next year\n",
    "        'SubscriptionFee': round(random.uniform(10.00, 200.00), 2)  # Random subscription fee between 10.00 and 200.00\n",
    "    } for i in range(1, num_subscriptions + 1)]\n",
    "    \n",
    "    return pd.DataFrame(subscriptions)\n",
    "\n",
    "# Assuming df_customers is previously created and contains the customer data\n",
    "df_subscriptions = generate_membership_subscriptions(df_customers=df_customers, num_subscriptions=500)\n",
    "print(df_subscriptions.head())"
   ]
  },
  {
   "cell_type": "code",
   "execution_count": 90,
   "metadata": {},
   "outputs": [],
   "source": [
    "df_subscriptions.to_csv(path + \"\\MembershipSubscriptions.csv\")"
   ]
  },
  {
   "cell_type": "code",
   "execution_count": 91,
   "metadata": {},
   "outputs": [
    {
     "name": "stdout",
     "output_type": "stream",
     "text": [
      "   ReviewID  ProductID  CustomerID  Rating  \\\n",
      "0         1        259         308       5   \n",
      "1         2        335         486       2   \n",
      "2         3         82          29       3   \n",
      "3         4        261          96       5   \n",
      "4         5        150         454       1   \n",
      "\n",
      "                                          ReviewText  ReviewDate  \n",
      "0  Score each cause. Quality throughout beautiful...  2023-10-06  \n",
      "1  Peace technology officer relate animal directi...  2023-05-12  \n",
      "2  Meeting before another body. Civil quite other...  2024-03-16  \n",
      "3  Campaign little near enter. Institution deep m...  2023-04-24  \n",
      "4  Court movie cell contain leg. Kitchen technolo...  2024-05-27  \n"
     ]
    }
   ],
   "source": [
    "# Function to generate product review data\n",
    "def generate_product_reviews(df_products, df_customers, num_reviews=1000):\n",
    "    faker.seed_instance(seed_value)  # Resetting the seed for the faker instance each call\n",
    "    product_ids = df_products['ProductID'].tolist()  # Extract Product IDs from the products DataFrame\n",
    "    customer_ids = df_customers['CustomerID'].tolist()  # Extract Customer IDs from the customers DataFrame\n",
    "\n",
    "    product_reviews = [{\n",
    "        'ReviewID': i,\n",
    "        'ProductID': random.choice(product_ids),  # Randomly select a ProductID from the list\n",
    "        'CustomerID': random.choice(customer_ids),  # Randomly select a CustomerID from the list\n",
    "        'Rating': random.randint(1, 5),  # Random rating between 1 and 5\n",
    "        'ReviewText': faker.text(),  # Random review text\n",
    "        'ReviewDate': faker.date_between(start_date='-2y', end_date='today')  # Random date within the last 2 years\n",
    "    } for i in range(1, num_reviews + 1)]\n",
    "    \n",
    "    return pd.DataFrame(product_reviews)\n",
    "\n",
    "# Assuming df_products and df_customers are previously created and contain the relevant data\n",
    "df_product_reviews = generate_product_reviews(df_products=df_products, df_customers=df_customers, num_reviews=1000)\n",
    "print(df_product_reviews.head())"
   ]
  },
  {
   "cell_type": "code",
   "execution_count": 92,
   "metadata": {},
   "outputs": [],
   "source": [
    "df_product_reviews.to_csv(path + \"\\ProductReviews.csv\")"
   ]
  },
  {
   "cell_type": "code",
   "execution_count": 94,
   "metadata": {},
   "outputs": [
    {
     "name": "stdout",
     "output_type": "stream",
     "text": [
      "   ComboID  ProductID1  ProductID2  NumberofSales  TotalRevenue\n",
      "0        1         415         103            297      13145.26\n",
      "1        2         470         157            373       4059.28\n",
      "2        3         476         490            219      22032.42\n",
      "3        4          98         207             44       6891.79\n",
      "4        5         167         338            217      48936.15\n"
     ]
    }
   ],
   "source": [
    "# Function to generate sales products combo data\n",
    "def generate_sales_products_combo(df_products, num_combos=500):\n",
    "    faker.seed_instance(seed_value)  # Resetting the seed for the faker instance each call\n",
    "    product_ids = df_products['ProductID'].tolist()  # Extract Product IDs from the products DataFrame\n",
    "\n",
    "    sales_products_combo = [{\n",
    "        'ComboID': i,\n",
    "        'ProductID1': random.choice(product_ids),  # Randomly select a ProductID for the first product\n",
    "        'ProductID2': random.choice(product_ids),  # Randomly select a ProductID for the second product\n",
    "        'NumberofSales': random.randint(1, 500),  # Random number of sales between 1 and 500\n",
    "        'TotalRevenue': round(random.uniform(1000.00, 50000.00), 2)  # Random total revenue between 1000.00 and 50000.00\n",
    "    } for i in range(1, num_combos + 1)]\n",
    "    \n",
    "    return pd.DataFrame(sales_products_combo)\n",
    "\n",
    "# Assuming df_products is previously created and contains the product data\n",
    "df_sales_products_combo = generate_sales_products_combo(df_products=df_products, num_combos=500)\n",
    "print(df_sales_products_combo.head())"
   ]
  },
  {
   "cell_type": "code",
   "execution_count": 95,
   "metadata": {},
   "outputs": [],
   "source": [
    "df_sales_products_combo.to_csv(path + \"\\SalesProductsCombo.csv\")"
   ]
  },
  {
   "cell_type": "code",
   "execution_count": 99,
   "metadata": {},
   "outputs": [
    {
     "name": "stdout",
     "output_type": "stream",
     "text": [
      "   RevenueID  StoreID       Month     Amount\n",
      "0          1        4  2024-08-02   63073.82\n",
      "1          2        1  2024-08-01  167042.96\n",
      "2          3        3  2024-08-01   79828.04\n",
      "3          4        1  2024-08-03  378478.80\n",
      "4          5        5  2024-08-01  482796.29\n"
     ]
    }
   ],
   "source": [
    "# Function to generate revenue data\n",
    "def generate_revenues(df_stores, num_revenues=500):\n",
    "    faker.seed_instance(seed_value)  # Resetting the seed for the faker instance each call\n",
    "    store_ids = df_stores['StoreID'].tolist()  # Extract Store IDs from the stores DataFrame\n",
    "\n",
    "    revenues = [{\n",
    "        'RevenueID': i,\n",
    "        'StoreID': random.choice(store_ids),  # Randomly select a StoreID from the list\n",
    "        'Month': faker.date_this_month(),  # Random date within the current month for simplicity\n",
    "        'Amount': round(random.uniform(10000.00, 500000.00), 2)  # Random revenue amount between 1000.00 and 50000.00\n",
    "    } for i in range(1, num_revenues + 1)]\n",
    "    \n",
    "    return pd.DataFrame(revenues)\n",
    "\n",
    "# Assuming df_stores is previously created and contains the store data\n",
    "df_revenues = generate_revenues(df_stores=df_stores, num_revenues=500)\n",
    "print(df_revenues.head())"
   ]
  },
  {
   "cell_type": "code",
   "execution_count": 100,
   "metadata": {},
   "outputs": [],
   "source": [
    "df_revenues.to_csv(path + \"\\Revenue.csv\")"
   ]
  },
  {
   "cell_type": "code",
   "execution_count": 103,
   "metadata": {},
   "outputs": [
    {
     "name": "stdout",
     "output_type": "stream",
     "text": [
      "   ExpenseID  StoreID       Month  ExpenseType    Amount\n",
      "0          1        1  2024-08-02    Utilities  25556.22\n",
      "1          2        2  2024-08-01         Rent  72146.16\n",
      "2          3        1  2024-08-01     Salaries  36608.31\n",
      "3          4        3  2024-08-03     Supplies   8589.82\n",
      "4          5        5  2024-08-01  Maintenance  28272.18\n"
     ]
    }
   ],
   "source": [
    "# Function to generate expense data\n",
    "def generate_expenses(df_stores, num_expenses=500):\n",
    "    faker.seed_instance(seed_value)  # Resetting the seed for the faker instance each call\n",
    "    store_ids = df_stores['StoreID'].tolist()  # Extract Store IDs from the stores DataFrame\n",
    "\n",
    "    expenses = [{\n",
    "        'ExpenseID': i,\n",
    "        'StoreID': random.choice(store_ids),  # Randomly select a StoreID from the list\n",
    "        'Month': faker.date_this_month(),  # Random date within the current month for simplicity\n",
    "        'ExpenseType': random.choice(['Utilities', 'Rent', 'Supplies', 'Salaries', 'Maintenance']),  # Random expense type\n",
    "        'Amount': round(random.uniform(5000.00, 200000.00), 2)  # Random expense amount between 500.00 and 20000.00\n",
    "    } for i in range(1, num_expenses + 1)]\n",
    "    \n",
    "    return pd.DataFrame(expenses)\n",
    "\n",
    "# Assuming df_stores is previously created and contains the store data\n",
    "df_expenses = generate_expenses(df_stores=df_stores, num_expenses=500)\n",
    "print(df_expenses.head())"
   ]
  },
  {
   "cell_type": "code",
   "execution_count": 104,
   "metadata": {},
   "outputs": [],
   "source": [
    "df_expenses.to_csv(path + \"\\Expense.csv\")"
   ]
  },
  {
   "cell_type": "code",
   "execution_count": 59,
   "metadata": {},
   "outputs": [],
   "source": [
    "# Define insertion queries for each table in the specified order\n",
    "insert_queries = {\n",
    "    'Employee': '''\n",
    "        INSERT INTO Employee (EmployeeID, FirstName, LastName, Position, StoreID, HireDate, Salary)\n",
    "        VALUES (%s, %s, %s, %s, %s, %s, %s)\n",
    "    ''',\n",
    "    'staff_timeoff': '''\n",
    "        INSERT INTO staff_timeoff (EmployeeID, StartDate, EndDate, Reason, Status)\n",
    "        VALUES (%s, %s, %s, %s, %s)\n",
    "    ''',\n",
    "    'Stores': '''\n",
    "    INSERT INTO Stores (StoreID, StoreName, Address, City, State, ZipCode, EmployeeID)\n",
    "    VALUES (%s, %s, %s, %s, %s, %s, %s)\n",
    "    ''',\n",
    "    'staff_shift': '''\n",
    "        INSERT INTO staff_shift (ShiftID, EmployeeID, StartTime, EndTime, Date)\n",
    "        VALUES (%s, %s, %s, %s, %s)\n",
    "    ''',\n",
    "    'Inventory': '''\n",
    "        INSERT INTO Inventory (ProductID, StoreID, Quantity, UnitCost)\n",
    "        VALUES (%s, %s, %s, %s)\n",
    "    ''',\n",
    "    'InventoryChanges': '''\n",
    "        INSERT INTO InventoryChanges (ChangeID, ProductID, StoreID, ChangeType, Quantity, ChangeDate)\n",
    "        VALUES (%s, %s, %s, %s, %s, %s)\n",
    "    ''',\n",
    "    'Suppliers': '''\n",
    "        INSERT INTO Suppliers (VendorID, VendorName, Address, City, State, ZipCode, Country)\n",
    "        VALUES (%s, %s, %s, %s, %s, %s, %s)\n",
    "    ''',\n",
    "    'contact': '''\n",
    "        INSERT INTO contact (VendorID, Liaison, Phone)\n",
    "        VALUES (%s, %s, %s)\n",
    "    ''',\n",
    "    'PurchaseOrders': '''\n",
    "        INSERT INTO PurchaseOrders (PurchaseOrderID, VendorID, OrderDate, ShippedDate, Status, TotalAmount)\n",
    "        VALUES (%s, %s, %s, %s, %s, %s)\n",
    "    ''',\n",
    "    'Deliveries': '''\n",
    "        INSERT INTO Deliveries (Delivercompany_ID, Company_Name, Address, City, State, ZipCode, Country, Pricepercar)\n",
    "        VALUES (%s, %s, %s, %s, %s, %s, %s, %s)\n",
    "    ''',\n",
    "    'Customer': '''\n",
    "        INSERT INTO Customer (CustomerID, FirstName, LastName, Email, Phone, Address)\n",
    "        VALUES (%s, %s, %s, %s, %s, %s)\n",
    "    ''',\n",
    "    'Deliver_Order': '''\n",
    "        INSERT INTO Deliver_Order (Deliverorder_ID, Products, Quantity, Date, StoreID, CustomerID, DeliveryFee)\n",
    "        VALUES (%s, %s, %s, %s, %s, %s, %s)\n",
    "    ''',\n",
    "    'Categories': '''\n",
    "        INSERT INTO Categories (CategoryID, Name, Description)\n",
    "        VALUES (%s, %s, %s)\n",
    "    ''',\n",
    "    'Products': '''\n",
    "        INSERT INTO Products (ProductID, Name, Description, Price, CategoryID)\n",
    "        VALUES (%s, %s, %s, %s, %s)\n",
    "    ''',\n",
    "    'Orders': '''\n",
    "        INSERT INTO Orders (OrderID, CustomerID, OrderDate)\n",
    "        VALUES (%s, %s, %s)\n",
    "    ''',\n",
    "    'OrderDetails': '''\n",
    "        INSERT INTO OrderDetails (OrderDetailID, OrderID, ProductID, Quantity, UnitPrice)\n",
    "        VALUES (%s, %s, %s, %s, %s)\n",
    "    ''',\n",
    "    'SalesTransactions': '''\n",
    "        INSERT INTO SalesTransactions (TransactionID, StoreID, OrderID, TransactionDate, TotalAmount)\n",
    "        VALUES (%s, %s, %s, %s, %s)\n",
    "    ''',\n",
    "    'MembershipSubscriptions': '''\n",
    "        INSERT INTO MembershipSubscriptions (SubscriptionID, CustomerID, SubscriptionType, StartDate, EndDate, SubscriptionFee)\n",
    "        VALUES (%s, %s, %s, %s, %s, %s)\n",
    "    ''',\n",
    "    'ProductReviews': '''\n",
    "        INSERT INTO ProductReviews (ReviewID, ProductID, CustomerID, Rating, ReviewText, ReviewDate)\n",
    "        VALUES (%s, %s, %s, %s, %s, %s)\n",
    "    ''',\n",
    "    'SalesProductsCombo': '''\n",
    "        INSERT INTO SalesProductsCombo (ComboID, ProductID1, ProductID2, NumberofSales, TotalRevenue)\n",
    "        VALUES (%s, %s, %s, %s, %s)\n",
    "    ''',\n",
    "    'Revenue': '''\n",
    "        INSERT INTO Revenue (RevenueID, StoreID, Month, Amount)\n",
    "        VALUES (%s, %s, %s, %s)\n",
    "    ''',\n",
    "    'Expense': '''\n",
    "        INSERT INTO Expense (ExpenseID, StoreID, Month, ExpenseType, Amount)\n",
    "        VALUES (%s, %s, %s, %s, %s)\n",
    "    '''\n",
    "}\n"
   ]
  },
  {
   "cell_type": "code",
   "execution_count": 60,
   "metadata": {},
   "outputs": [
    {
     "name": "stdout",
     "output_type": "stream",
     "text": [
      "Employee\n",
      "staff_timeoff\n",
      "Stores\n",
      "Error inserting data: insert or update on table \"stores\" violates foreign key constraint \"stores_employeeid_fkey\"\n",
      "DETAIL:  Key (employeeid)=(1) is not present in table \"employee\".\n",
      "\n"
     ]
    }
   ],
   "source": [
    "def insert_data():\n",
    "    # Connect to the PostgreSQL database\n",
    "    conn = psycopg2.connect(**db_params)\n",
    "    cursor = conn.cursor()\n",
    "\n",
    "    try:\n",
    "        # Insert data into each table\n",
    "        for table, query in insert_queries.items():\n",
    "            print(table)\n",
    "            # Select the corresponding DataFrame\n",
    "            df = globals().get(f'df_{table.lower()}')\n",
    "            if df is not None:\n",
    "                # Insert data from DataFrame into the table\n",
    "                for record in df.itertuples(index=False, name=None):\n",
    "                    cursor.execute(query, record)\n",
    "                print(f\"Data inserted into {table} table.\")\n",
    "        \n",
    "        # Commit the changes\n",
    "        conn.commit()\n",
    "    except Exception as e:\n",
    "        print(f\"Error inserting data: {e}\")\n",
    "        conn.rollback()\n",
    "    finally:\n",
    "        # Close the cursor and connection\n",
    "        cursor.close()\n",
    "        conn.close()\n",
    "\n",
    "if __name__ == \"__main__\":\n",
    "    insert_data()\n"
   ]
  }
 ],
 "metadata": {
  "kernelspec": {
   "display_name": "myenvironment",
   "language": "python",
   "name": "python3"
  },
  "language_info": {
   "codemirror_mode": {
    "name": "ipython",
    "version": 3
   },
   "file_extension": ".py",
   "mimetype": "text/x-python",
   "name": "python",
   "nbconvert_exporter": "python",
   "pygments_lexer": "ipython3",
   "version": "3.10.13"
  }
 },
 "nbformat": 4,
 "nbformat_minor": 2
}
